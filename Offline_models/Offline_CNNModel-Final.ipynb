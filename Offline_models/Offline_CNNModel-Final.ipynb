{
 "cells": [
  {
   "cell_type": "code",
   "execution_count": 1,
   "id": "b38b806c",
   "metadata": {},
   "outputs": [],
   "source": [
    "import pandas as pd\n",
    "import numpy as np\n",
    "import scipy.stats as stats\n",
    "import time\n",
    "import tensorflow as tf\n",
    "from matplotlib import pyplot as plt\n",
    "from sklearn.preprocessing import MinMaxScaler\n",
    "from sklearn.model_selection import train_test_split\n",
    "from sklearn.metrics import accuracy_score\n",
    "from tensorflow.keras import Sequential\n",
    "from tensorflow.keras.layers import Flatten, Dense, BatchNormalization, Dropout\n",
    "from tensorflow.keras.layers import Conv1D, MaxPool1D"
   ]
  },
  {
   "cell_type": "code",
   "execution_count": 2,
   "id": "99cdad22",
   "metadata": {},
   "outputs": [],
   "source": [
    "#File Importing (total 48 files)\n",
    "def load_file(path,act):\n",
    "    file = pd.read_hdf(path,key=act)\n",
    "    #s_train.append(file)\n",
    "    return file\n",
    "\n",
    "# s1-s15:walk\n",
    "s1 = load_file('wrist_ppg_data/s15_all_signals.hdf5','walk')\n",
    "s2 = load_file('wrist_ppg_data/s16_all_signals.hdf5','walk')\n",
    "s3 = load_file('wrist_ppg_data/s17_all_signals.hdf5','walk')\n",
    "s4 = load_file('wrist_ppg_data/s21_all_signals.hdf5','walk')\n",
    "s5 = load_file('wrist_ppg_data/s22_all_signals.hdf5','walk')\n",
    "s6 = load_file('wrist_ppg_data/s23_all_signals.hdf5','walk')\n",
    "s7 = load_file('wrist_ppg_data/s24_all_signals.hdf5','walk')\n",
    "s8 = load_file('wrist_ppg_data/s25_all_signals.hdf5','walk')\n",
    "s9 = load_file('wrist_ppg_data/s26_all_signals.hdf5','walk')\n",
    "s10 = load_file('wrist_ppg_data/s27_all_signals.hdf5','walk')\n",
    "s11 = load_file('wrist_ppg_data/s28_all_signals.hdf5','walk')\n",
    "s12 = load_file('wrist_ppg_data/s30_all_signals.hdf5','walk')\n",
    "s13 = load_file('wrist_ppg_data/s31_all_signals.hdf5','walk')\n",
    "s14 = load_file('wrist_ppg_data/s32_all_signals.hdf5','walk')\n",
    "s15 = load_file('wrist_ppg_data/s34_all_signals.hdf5','walk')\n",
    "# s16-s19:run\n",
    "s16 = load_file('wrist_ppg_data/s15_all_signals.hdf5','run')\n",
    "s17 = load_file('wrist_ppg_data/s24_all_signals.hdf5','run')\n",
    "s18 = load_file('wrist_ppg_data/s28_all_signals.hdf5','run')\n",
    "s19 = load_file('wrist_ppg_data/s34_all_signals.hdf5','run')\n",
    "# s20-s34:lrb\n",
    "s20 = load_file('wrist_ppg_data/s15_all_signals.hdf5','lrb')\n",
    "s21 = load_file('wrist_ppg_data/s16_all_signals.hdf5','lrb')\n",
    "s22 = load_file('wrist_ppg_data/s17_all_signals.hdf5','lrb')\n",
    "s23 = load_file('wrist_ppg_data/s21_all_signals.hdf5','lrb')\n",
    "s24 = load_file('wrist_ppg_data/s22_all_signals.hdf5','lrb')\n",
    "s25 = load_file('wrist_ppg_data/s23_all_signals.hdf5','lrb')\n",
    "s26 = load_file('wrist_ppg_data/s24_all_signals.hdf5','lrb')\n",
    "s27 = load_file('wrist_ppg_data/s25_all_signals.hdf5','lrb')\n",
    "s28 = load_file('wrist_ppg_data/s26_all_signals.hdf5','lrb')\n",
    "s29 = load_file('wrist_ppg_data/s27_all_signals.hdf5','lrb')\n",
    "s30 = load_file('wrist_ppg_data/s28_all_signals.hdf5','lrb')\n",
    "s31 = load_file('wrist_ppg_data/s30_all_signals.hdf5','lrb')\n",
    "s32 = load_file('wrist_ppg_data/s31_all_signals.hdf5','lrb')\n",
    "s33 = load_file('wrist_ppg_data/s32_all_signals.hdf5','lrb')\n",
    "s34 = load_file('wrist_ppg_data/s34_all_signals.hdf5','lrb')\n",
    "# s35-s48:hrb\n",
    "s35 = load_file('wrist_ppg_data/s15_all_signals.hdf5','hrb')\n",
    "s36 = load_file('wrist_ppg_data/s16_all_signals.hdf5','hrb')\n",
    "s37 = load_file('wrist_ppg_data/s17_all_signals.hdf5','hrb')\n",
    "s38 = load_file('wrist_ppg_data/s21_all_signals.hdf5','hrb')\n",
    "s39 = load_file('wrist_ppg_data/s23_all_signals.hdf5','hrb')\n",
    "s40 = load_file('wrist_ppg_data/s24_all_signals.hdf5','hrb')\n",
    "s41 = load_file('wrist_ppg_data/s25_all_signals.hdf5','hrb')\n",
    "s42 = load_file('wrist_ppg_data/s26_all_signals.hdf5','hrb')\n",
    "s43 = load_file('wrist_ppg_data/s27_all_signals.hdf5','hrb')\n",
    "s44 = load_file('wrist_ppg_data/s28_all_signals.hdf5','hrb')\n",
    "s45 = load_file('wrist_ppg_data/s30_all_signals.hdf5','hrb')\n",
    "s46 = load_file('wrist_ppg_data/s31_all_signals.hdf5','hrb')\n",
    "s47 = load_file('wrist_ppg_data/s32_all_signals.hdf5','hrb')\n",
    "s48 = load_file('wrist_ppg_data/s34_all_signals.hdf5','hrb')"
   ]
  },
  {
   "cell_type": "code",
   "execution_count": 3,
   "id": "9c982987",
   "metadata": {},
   "outputs": [
    {
     "name": "stdout",
     "output_type": "stream",
     "text": [
      "<class 'pandas.core.frame.DataFrame'>\n",
      "(5685320, 19)\n"
     ]
    }
   ],
   "source": [
    "# concat data and add label column\n",
    "def concat_file(startn,endn):\n",
    "    frame = []\n",
    "    for i in range(startn,endn):\n",
    "        ss = 's' + str(i) #represent s1,s2,...,s48\n",
    "        s_con = eval(ss) #convert to pandas dataframe\n",
    "        frame.append(s_con) #saved in a list\n",
    "    return frame\n",
    "\n",
    "# add label\n",
    "d_walk = pd.concat(concat_file(1,16))\n",
    "d_walk['label'] = 0\n",
    "d_run = pd.concat(concat_file(16,20))\n",
    "d_run['label'] = 1\n",
    "d_lrb = pd.concat(concat_file(20,35))\n",
    "d_lrb['label'] = 2\n",
    "d_hrb = pd.concat(concat_file(35,49))\n",
    "d_hrb['label'] = 3\n",
    "data = pd.concat([d_walk,d_run,d_lrb,d_hrb])\n",
    "print(type(data))\n",
    "print(data.shape)\n",
    "#print(data.head)"
   ]
  },
  {
   "cell_type": "code",
   "execution_count": 4,
   "id": "bd249116",
   "metadata": {},
   "outputs": [
    {
     "name": "stdout",
     "output_type": "stream",
     "text": [
      "<class 'pandas.core.frame.DataFrame'>\n",
      "Float64Index: 5685320 entries, 0.0 to 601.215\n",
      "Data columns (total 5 columns):\n",
      " #   Column                      Dtype  \n",
      "---  ------                      -----  \n",
      " 0   wrist_left_ppg              float64\n",
      " 1   wrist_left_accelerometer_x  float64\n",
      " 2   wrist_left_accelerometer_y  float64\n",
      " 3   wrist_left_accelerometer_z  float64\n",
      " 4   label                       int64  \n",
      "dtypes: float64(4), int64(1)\n",
      "memory usage: 260.3 MB\n"
     ]
    }
   ],
   "source": [
    "#delete useless information\n",
    "data = data.drop(['events','chest_ecg','chest_accelerometer_x','chest_accelerometer_y','chest_accelerometer_z','wrist_right_hr','ankle_left_ppg','ankle_left_accelerometer_x','ankle_left_accelerometer_y','ankle_left_accelerometer_z','ankle_right_ppg','ankle_right_accelerometer_x','ankle_right_accelerometer_y','ankle_right_accelerometer_z'],axis = 1).copy()\n",
    "data.head(5776993)\n",
    "data.info()"
   ]
  },
  {
   "cell_type": "code",
   "execution_count": 5,
   "id": "0127d4c7",
   "metadata": {},
   "outputs": [
    {
     "data": {
      "text/plain": [
       "2    1787775\n",
       "0    1775700\n",
       "3    1656919\n",
       "1     464926\n",
       "Name: label, dtype: int64"
      ]
     },
     "execution_count": 5,
     "metadata": {},
     "output_type": "execute_result"
    }
   ],
   "source": [
    "min_activity = data['label'].value_counts().min()\n",
    "data['label'].value_counts()"
   ]
  },
  {
   "cell_type": "code",
   "execution_count": 6,
   "id": "5dd3b446",
   "metadata": {},
   "outputs": [
    {
     "name": "stdout",
     "output_type": "stream",
     "text": [
      "<class 'numpy.ndarray'>\n",
      "(5685320, 4)\n"
     ]
    }
   ],
   "source": [
    "# Scale Standardization\n",
    "xdata = data[['wrist_left_ppg','wrist_left_accelerometer_x','wrist_left_accelerometer_y','wrist_left_accelerometer_z']]\n",
    "min_max_scaler = MinMaxScaler(feature_range=(-1,1)) #scale to the range (-1,1)\n",
    "X = min_max_scaler.fit_transform(xdata)\n",
    "print(type(X))\n",
    "print(X.shape)"
   ]
  },
  {
   "cell_type": "code",
   "execution_count": 7,
   "id": "041e9d02",
   "metadata": {},
   "outputs": [
    {
     "name": "stdout",
     "output_type": "stream",
     "text": [
      "(5685320, 5)\n",
      "<class 'pandas.core.frame.DataFrame'>\n",
      "              ppg      accx      accy      accz  label\n",
      "0        0.091756 -0.159367  0.393531  0.061759      0\n",
      "1        0.091241 -0.158706  0.392370  0.059931      0\n",
      "2        0.090738 -0.158131  0.391169  0.058367      0\n",
      "3        0.090222 -0.157813  0.390377  0.057170      0\n",
      "4        0.089678 -0.157887  0.390376  0.056384      0\n",
      "...           ...       ...       ...       ...    ...\n",
      "5685315 -0.170856  0.147863 -0.406727 -0.058306      3\n",
      "5685316 -0.181045  0.142977 -0.404441 -0.064955      3\n",
      "5685317 -0.192560  0.132919 -0.403442 -0.072393      3\n",
      "5685318 -0.204983  0.118292 -0.402980 -0.080206      3\n",
      "5685319 -0.218243  0.101060 -0.403041 -0.087830      3\n",
      "\n",
      "[5685320 rows x 5 columns]\n"
     ]
    }
   ],
   "source": [
    "#combine scaled data\n",
    "scaled_data = pd.DataFrame(data = X, columns = ['ppg','accx','accy','accz'])\n",
    "scaled_data['label'] = data['label'].values\n",
    "print(scaled_data.shape)\n",
    "print(type(scaled_data))\n",
    "print(scaled_data.head(5776992))"
   ]
  },
  {
   "cell_type": "code",
   "execution_count": 8,
   "id": "7f7e6cbb",
   "metadata": {},
   "outputs": [
    {
     "name": "stdout",
     "output_type": "stream",
     "text": [
      "(28419, 1600, 4) (28419,)\n",
      "[0 0 0 ... 3 3 3]\n"
     ]
    }
   ],
   "source": [
    "# Sliding Window Segment\n",
    "fs = 200\n",
    "frame_size = fs * 8 # one frame consists of 2 seconds\n",
    "hop_size = fs * 1  #87.5% overlap\n",
    "\n",
    "def get_frames(x_train, frame_size, hop_size):\n",
    "    N_FEATURES = 4\n",
    "    frames = []\n",
    "    labels = []\n",
    "    \n",
    "    for i in range(0, len(x_train) - frame_size, hop_size):\n",
    "        ppg = x_train['ppg'].values[i:i+frame_size]\n",
    "        x = x_train['accx'].values[i:i+frame_size]\n",
    "        y = x_train['accy'].values[i:i+frame_size]\n",
    "        z = x_train['accz'].values[i:i+frame_size]\n",
    "        \n",
    "        # retrieve the most often used label in this segment\n",
    "        label = stats.mode(x_train['label'][i:i+frame_size])[0][0]\n",
    "        frames.append([ppg,x, y, z])\n",
    "        labels.append(label)\n",
    "    \n",
    "    # bring the segment into a better shape\n",
    "    frames = np.asarray(frames).reshape(-1, frame_size, N_FEATURES)\n",
    "    labels = np.asarray(labels)\n",
    "    return frames, labels\n",
    "\n",
    "X,y = get_frames(scaled_data, frame_size, hop_size)\n",
    "print(X.shape,y.shape) #(5776992*features)/(frame_size*2)\n",
    "print(y)"
   ]
  },
  {
   "cell_type": "code",
   "execution_count": 9,
   "id": "1365668d",
   "metadata": {},
   "outputs": [
    {
     "name": "stdout",
     "output_type": "stream",
     "text": [
      "<class 'numpy.ndarray'>\n",
      "(28419, 4)\n",
      "[[1. 0. 0. 0.]\n",
      " [1. 0. 0. 0.]\n",
      " [1. 0. 0. 0.]\n",
      " ...\n",
      " [0. 0. 0. 1.]\n",
      " [0. 0. 0. 1.]\n",
      " [0. 0. 0. 1.]]\n"
     ]
    }
   ],
   "source": [
    "# one-hot convertion\n",
    "y = tf.keras.utils.to_categorical(y)\n",
    "print(type(y))\n",
    "print(y.shape)\n",
    "print(y)"
   ]
  },
  {
   "cell_type": "code",
   "execution_count": 10,
   "id": "d7d00cb5",
   "metadata": {},
   "outputs": [
    {
     "name": "stdout",
     "output_type": "stream",
     "text": [
      "(19893, 1600, 4) (8526, 1600, 4) (19893, 4) (8526, 4)\n",
      "[[0. 0. 1. 0.]\n",
      " [0. 0. 1. 0.]\n",
      " [0. 0. 0. 1.]\n",
      " ...\n",
      " [0. 0. 0. 1.]\n",
      " [0. 0. 0. 1.]\n",
      " [0. 0. 0. 1.]]\n"
     ]
    }
   ],
   "source": [
    "# split training and testing dataset\n",
    "X_train,X_test,y_train,y_test = train_test_split(X,y,test_size=0.3,random_state=0,stratify=y)\n",
    "print(X_train.shape,X_test.shape,y_train.shape,y_test.shape)\n",
    "print(y_test)"
   ]
  },
  {
   "cell_type": "code",
   "execution_count": 11,
   "id": "294246fe",
   "metadata": {},
   "outputs": [],
   "source": [
    "X_train = X_train.astype(np.float32)\n",
    "X_test = X_test.astype(np.float32)\n",
    "y_train = y_train.astype(np.float32)\n",
    "y_test = y_test.astype(np.float32)"
   ]
  },
  {
   "cell_type": "code",
   "execution_count": 12,
   "id": "9faa9949",
   "metadata": {},
   "outputs": [
    {
     "name": "stdout",
     "output_type": "stream",
     "text": [
      "Model: \"sequential\"\n",
      "_________________________________________________________________\n",
      "Layer (type)                 Output Shape              Param #   \n",
      "=================================================================\n",
      "conv1d (Conv1D)              (None, 1598, 8)           104       \n",
      "_________________________________________________________________\n",
      "max_pooling1d (MaxPooling1D) (None, 532, 8)            0         \n",
      "_________________________________________________________________\n",
      "conv1d_1 (Conv1D)            (None, 530, 16)           400       \n",
      "_________________________________________________________________\n",
      "max_pooling1d_1 (MaxPooling1 (None, 265, 16)           0         \n",
      "_________________________________________________________________\n",
      "conv1d_2 (Conv1D)            (None, 263, 32)           1568      \n",
      "_________________________________________________________________\n",
      "max_pooling1d_2 (MaxPooling1 (None, 131, 32)           0         \n",
      "_________________________________________________________________\n",
      "dropout (Dropout)            (None, 131, 32)           0         \n",
      "_________________________________________________________________\n",
      "conv1d_3 (Conv1D)            (None, 129, 64)           6208      \n",
      "_________________________________________________________________\n",
      "max_pooling1d_3 (MaxPooling1 (None, 64, 64)            0         \n",
      "_________________________________________________________________\n",
      "dropout_1 (Dropout)          (None, 64, 64)            0         \n",
      "_________________________________________________________________\n",
      "conv1d_4 (Conv1D)            (None, 62, 128)           24704     \n",
      "_________________________________________________________________\n",
      "max_pooling1d_4 (MaxPooling1 (None, 31, 128)           0         \n",
      "_________________________________________________________________\n",
      "dropout_2 (Dropout)          (None, 31, 128)           0         \n",
      "_________________________________________________________________\n",
      "flatten (Flatten)            (None, 3968)              0         \n",
      "_________________________________________________________________\n",
      "dense (Dense)                (None, 128)               508032    \n",
      "_________________________________________________________________\n",
      "dropout_3 (Dropout)          (None, 128)               0         \n",
      "_________________________________________________________________\n",
      "dense_1 (Dense)              (None, 4)                 516       \n",
      "=================================================================\n",
      "Total params: 541,532\n",
      "Trainable params: 541,532\n",
      "Non-trainable params: 0\n",
      "_________________________________________________________________\n"
     ]
    }
   ],
   "source": [
    "#Generate CNN Model\n",
    "model = Sequential()\n",
    "time_steps = X_train.shape[1]\n",
    "features = X_train.shape[2]\n",
    "model.add(Conv1D(8, 3, activation='relu', input_shape=(time_steps,features)))\n",
    "model.add(MaxPool1D(pool_size=3,strides = 3))\n",
    "\n",
    "model.add(Conv1D(16, 3, activation='relu'))\n",
    "model.add(MaxPool1D(pool_size=2,strides = 2))\n",
    "\n",
    "model.add(Conv1D(32, 3, activation='relu'))\n",
    "model.add(MaxPool1D(pool_size=2,strides = 2))\n",
    "model.add(Dropout(0.1))\n",
    "\n",
    "model.add(Conv1D(64, 3, activation='relu'))\n",
    "model.add(MaxPool1D(pool_size=2,strides = 2))\n",
    "model.add(Dropout(0.25))\n",
    "\n",
    "model.add(Conv1D(128, 3, activation='relu'))\n",
    "model.add(MaxPool1D(pool_size=2,strides = 2))\n",
    "model.add(Dropout(0.5))\n",
    "\n",
    "model.add(Flatten())\n",
    "\n",
    "model.add(Dense(128, activation='relu'))\n",
    "model.add(Dropout(0.5))\n",
    "\n",
    "model.add(Dense(4, activation='softmax'))\n",
    "model.summary()"
   ]
  },
  {
   "cell_type": "code",
   "execution_count": 13,
   "id": "1dc6a4d7",
   "metadata": {},
   "outputs": [],
   "source": [
    "#Model compiler settings\n",
    "model.compile(optimizer = tf.keras.optimizers.Adam(0.001),\n",
    "              loss='categorical_crossentropy',\n",
    "              metrics=['accuracy'])"
   ]
  },
  {
   "cell_type": "code",
   "execution_count": 14,
   "id": "de6b2c2f",
   "metadata": {},
   "outputs": [
    {
     "name": "stdout",
     "output_type": "stream",
     "text": [
      "Epoch 1/120\n",
      "249/249 [==============================] - 17s 66ms/step - loss: 0.8707 - accuracy: 0.5869 - val_loss: 0.6683 - val_accuracy: 0.6823\n",
      "Epoch 2/120\n",
      "249/249 [==============================] - 16s 63ms/step - loss: 0.6332 - accuracy: 0.7104 - val_loss: 0.5923 - val_accuracy: 0.7371\n",
      "Epoch 3/120\n",
      "249/249 [==============================] - 16s 63ms/step - loss: 0.5017 - accuracy: 0.7764 - val_loss: 0.4031 - val_accuracy: 0.8311\n",
      "Epoch 4/120\n",
      "249/249 [==============================] - 16s 64ms/step - loss: 0.4374 - accuracy: 0.8036 - val_loss: 0.3609 - val_accuracy: 0.8547\n",
      "Epoch 5/120\n",
      "249/249 [==============================] - 16s 63ms/step - loss: 0.3922 - accuracy: 0.8291 - val_loss: 0.3184 - val_accuracy: 0.8681\n",
      "Epoch 6/120\n",
      "249/249 [==============================] - 16s 63ms/step - loss: 0.3644 - accuracy: 0.8408 - val_loss: 0.3524 - val_accuracy: 0.8397\n",
      "Epoch 7/120\n",
      "249/249 [==============================] - 16s 64ms/step - loss: 0.3435 - accuracy: 0.8544 - val_loss: 0.2851 - val_accuracy: 0.8776\n",
      "Epoch 8/120\n",
      "249/249 [==============================] - 16s 66ms/step - loss: 0.3331 - accuracy: 0.8574 - val_loss: 0.2674 - val_accuracy: 0.8804\n",
      "Epoch 9/120\n",
      "249/249 [==============================] - 17s 68ms/step - loss: 0.3103 - accuracy: 0.8651 - val_loss: 0.2382 - val_accuracy: 0.8924\n",
      "Epoch 10/120\n",
      "249/249 [==============================] - 18s 72ms/step - loss: 0.3010 - accuracy: 0.8688 - val_loss: 0.2532 - val_accuracy: 0.8929\n",
      "Epoch 11/120\n",
      "249/249 [==============================] - 16s 64ms/step - loss: 0.2801 - accuracy: 0.8799 - val_loss: 0.2429 - val_accuracy: 0.8929\n",
      "Epoch 12/120\n",
      "249/249 [==============================] - 15s 62ms/step - loss: 0.2855 - accuracy: 0.8780 - val_loss: 0.2466 - val_accuracy: 0.8919\n",
      "Epoch 13/120\n",
      "249/249 [==============================] - 15s 61ms/step - loss: 0.2726 - accuracy: 0.8830 - val_loss: 0.2203 - val_accuracy: 0.9047\n",
      "Epoch 14/120\n",
      "249/249 [==============================] - 15s 61ms/step - loss: 0.2627 - accuracy: 0.8863 - val_loss: 0.2258 - val_accuracy: 0.9055\n",
      "Epoch 15/120\n",
      "249/249 [==============================] - 17s 67ms/step - loss: 0.2539 - accuracy: 0.8922 - val_loss: 0.2174 - val_accuracy: 0.9088\n",
      "Epoch 16/120\n",
      "249/249 [==============================] - 17s 70ms/step - loss: 0.2549 - accuracy: 0.8914 - val_loss: 0.2651 - val_accuracy: 0.8841\n",
      "Epoch 17/120\n",
      "249/249 [==============================] - 16s 66ms/step - loss: 0.2399 - accuracy: 0.8998 - val_loss: 0.2028 - val_accuracy: 0.9135\n",
      "Epoch 18/120\n",
      "249/249 [==============================] - 17s 67ms/step - loss: 0.2300 - accuracy: 0.9032 - val_loss: 0.1967 - val_accuracy: 0.9168\n",
      "Epoch 19/120\n",
      "249/249 [==============================] - 17s 69ms/step - loss: 0.2365 - accuracy: 0.9001 - val_loss: 0.1951 - val_accuracy: 0.9226\n",
      "Epoch 20/120\n",
      "249/249 [==============================] - 17s 70ms/step - loss: 0.2251 - accuracy: 0.9013 - val_loss: 0.1878 - val_accuracy: 0.9228\n",
      "Epoch 21/120\n",
      "249/249 [==============================] - 15s 62ms/step - loss: 0.2101 - accuracy: 0.9108 - val_loss: 0.2221 - val_accuracy: 0.9080\n",
      "Epoch 22/120\n",
      "249/249 [==============================] - 15s 62ms/step - loss: 0.2072 - accuracy: 0.9115 - val_loss: 0.1821 - val_accuracy: 0.9264\n",
      "Epoch 23/120\n",
      "249/249 [==============================] - 15s 62ms/step - loss: 0.2041 - accuracy: 0.9142 - val_loss: 0.1880 - val_accuracy: 0.9246\n",
      "Epoch 24/120\n",
      "249/249 [==============================] - 15s 61ms/step - loss: 0.1979 - accuracy: 0.9164 - val_loss: 0.1964 - val_accuracy: 0.9156\n",
      "Epoch 25/120\n",
      "249/249 [==============================] - 16s 64ms/step - loss: 0.1894 - accuracy: 0.9206 - val_loss: 0.1592 - val_accuracy: 0.9349\n",
      "Epoch 26/120\n",
      "249/249 [==============================] - 16s 62ms/step - loss: 0.1848 - accuracy: 0.9226 - val_loss: 0.1795 - val_accuracy: 0.9274\n",
      "Epoch 27/120\n",
      "249/249 [==============================] - 15s 62ms/step - loss: 0.1795 - accuracy: 0.9244 - val_loss: 0.1511 - val_accuracy: 0.9387\n",
      "Epoch 28/120\n",
      "249/249 [==============================] - 15s 61ms/step - loss: 0.1877 - accuracy: 0.9220 - val_loss: 0.1673 - val_accuracy: 0.9344\n",
      "Epoch 29/120\n",
      "249/249 [==============================] - 15s 61ms/step - loss: 0.1767 - accuracy: 0.9260 - val_loss: 0.1495 - val_accuracy: 0.9419\n",
      "Epoch 30/120\n",
      "249/249 [==============================] - 15s 62ms/step - loss: 0.1808 - accuracy: 0.9223 - val_loss: 0.1584 - val_accuracy: 0.9414\n",
      "Epoch 31/120\n",
      "249/249 [==============================] - 15s 62ms/step - loss: 0.1699 - accuracy: 0.9303 - val_loss: 0.1498 - val_accuracy: 0.9412\n",
      "Epoch 32/120\n",
      "249/249 [==============================] - 15s 61ms/step - loss: 0.1611 - accuracy: 0.9341 - val_loss: 0.1461 - val_accuracy: 0.9407\n",
      "Epoch 33/120\n",
      "249/249 [==============================] - 16s 65ms/step - loss: 0.1601 - accuracy: 0.9340 - val_loss: 0.1462 - val_accuracy: 0.9427\n",
      "Epoch 34/120\n",
      "249/249 [==============================] - 17s 67ms/step - loss: 0.1620 - accuracy: 0.9306 - val_loss: 0.1699 - val_accuracy: 0.9329\n",
      "Epoch 35/120\n",
      "249/249 [==============================] - 16s 66ms/step - loss: 0.1491 - accuracy: 0.9390 - val_loss: 0.1343 - val_accuracy: 0.9480\n",
      "Epoch 36/120\n",
      "249/249 [==============================] - 17s 66ms/step - loss: 0.1544 - accuracy: 0.9375 - val_loss: 0.1381 - val_accuracy: 0.9475\n",
      "Epoch 37/120\n",
      "249/249 [==============================] - 16s 64ms/step - loss: 0.1541 - accuracy: 0.9365 - val_loss: 0.1431 - val_accuracy: 0.9450\n",
      "Epoch 38/120\n",
      "249/249 [==============================] - 17s 68ms/step - loss: 0.1513 - accuracy: 0.9378 - val_loss: 0.1296 - val_accuracy: 0.9490\n",
      "Epoch 39/120\n",
      "249/249 [==============================] - 15s 60ms/step - loss: 0.1398 - accuracy: 0.9426 - val_loss: 0.1317 - val_accuracy: 0.9497\n",
      "Epoch 40/120\n",
      "249/249 [==============================] - 16s 63ms/step - loss: 0.1363 - accuracy: 0.9413 - val_loss: 0.1328 - val_accuracy: 0.9500\n",
      "Epoch 41/120\n",
      "249/249 [==============================] - 15s 62ms/step - loss: 0.1443 - accuracy: 0.9387 - val_loss: 0.1247 - val_accuracy: 0.9543\n",
      "Epoch 42/120\n",
      "249/249 [==============================] - 15s 61ms/step - loss: 0.1363 - accuracy: 0.9443 - val_loss: 0.1350 - val_accuracy: 0.9490\n",
      "Epoch 43/120\n",
      "249/249 [==============================] - 15s 61ms/step - loss: 0.1344 - accuracy: 0.9458 - val_loss: 0.1238 - val_accuracy: 0.9520\n",
      "Epoch 44/120\n",
      "249/249 [==============================] - 15s 61ms/step - loss: 0.1247 - accuracy: 0.9480 - val_loss: 0.1418 - val_accuracy: 0.9487\n",
      "Epoch 45/120\n",
      "249/249 [==============================] - 15s 61ms/step - loss: 0.1307 - accuracy: 0.9478 - val_loss: 0.1231 - val_accuracy: 0.9530\n",
      "Epoch 46/120\n",
      "249/249 [==============================] - 15s 61ms/step - loss: 0.1321 - accuracy: 0.9461 - val_loss: 0.1342 - val_accuracy: 0.9470\n",
      "Epoch 47/120\n",
      "249/249 [==============================] - 14s 58ms/step - loss: 0.1253 - accuracy: 0.9502 - val_loss: 0.1219 - val_accuracy: 0.9510\n",
      "Epoch 48/120\n",
      "249/249 [==============================] - 15s 61ms/step - loss: 0.1272 - accuracy: 0.9487 - val_loss: 0.1423 - val_accuracy: 0.9460 0.1\n",
      "Epoch 49/120\n",
      "249/249 [==============================] - 16s 63ms/step - loss: 0.1250 - accuracy: 0.9513 - val_loss: 0.1302 - val_accuracy: 0.9485\n",
      "Epoch 50/120\n",
      "249/249 [==============================] - 15s 62ms/step - loss: 0.1175 - accuracy: 0.9553 - val_loss: 0.1231 - val_accuracy: 0.9548\n",
      "Epoch 51/120\n",
      "249/249 [==============================] - 19s 78ms/step - loss: 0.1274 - accuracy: 0.9489 - val_loss: 0.1296 - val_accuracy: 0.9507\n",
      "Epoch 52/120\n",
      "249/249 [==============================] - 17s 68ms/step - loss: 0.1178 - accuracy: 0.9539 - val_loss: 0.1287 - val_accuracy: 0.9510\n",
      "Epoch 53/120\n",
      "249/249 [==============================] - 17s 69ms/step - loss: 0.1133 - accuracy: 0.9548 - val_loss: 0.1208 - val_accuracy: 0.9575\n",
      "Epoch 54/120\n",
      "249/249 [==============================] - 19s 76ms/step - loss: 0.1132 - accuracy: 0.9527 - val_loss: 0.1249 - val_accuracy: 0.9520\n",
      "Epoch 55/120\n",
      "249/249 [==============================] - 17s 67ms/step - loss: 0.1124 - accuracy: 0.9556 - val_loss: 0.1094 - val_accuracy: 0.9593\n",
      "Epoch 56/120\n",
      "249/249 [==============================] - 16s 66ms/step - loss: 0.1120 - accuracy: 0.9541 - val_loss: 0.1169 - val_accuracy: 0.9575\n",
      "Epoch 57/120\n",
      "249/249 [==============================] - 17s 67ms/step - loss: 0.1111 - accuracy: 0.9543 - val_loss: 0.1510 - val_accuracy: 0.9457\n",
      "Epoch 58/120\n",
      "249/249 [==============================] - 16s 66ms/step - loss: 0.1102 - accuracy: 0.9565 - val_loss: 0.1326 - val_accuracy: 0.9515\n",
      "Epoch 59/120\n",
      "249/249 [==============================] - 17s 69ms/step - loss: 0.1039 - accuracy: 0.9570 - val_loss: 0.1054 - val_accuracy: 0.9608\n",
      "Epoch 60/120\n",
      "249/249 [==============================] - 17s 69ms/step - loss: 0.1057 - accuracy: 0.9585 - val_loss: 0.1113 - val_accuracy: 0.9563\n",
      "Epoch 61/120\n",
      "249/249 [==============================] - 16s 66ms/step - loss: 0.1033 - accuracy: 0.9591 - val_loss: 0.1169 - val_accuracy: 0.9570\n",
      "Epoch 62/120\n",
      "249/249 [==============================] - 16s 65ms/step - loss: 0.1180 - accuracy: 0.9526 - val_loss: 0.1095 - val_accuracy: 0.9560\n",
      "Epoch 63/120\n",
      "249/249 [==============================] - 17s 67ms/step - loss: 0.1041 - accuracy: 0.9589 - val_loss: 0.1237 - val_accuracy: 0.9555\n",
      "Epoch 64/120\n",
      "249/249 [==============================] - 17s 68ms/step - loss: 0.1021 - accuracy: 0.9590 - val_loss: 0.1050 - val_accuracy: 0.9618\n",
      "Epoch 65/120\n",
      "249/249 [==============================] - 17s 70ms/step - loss: 0.1022 - accuracy: 0.9590 - val_loss: 0.1223 - val_accuracy: 0.9545\n",
      "Epoch 66/120\n",
      "249/249 [==============================] - 17s 70ms/step - loss: 0.0993 - accuracy: 0.9600 - val_loss: 0.1136 - val_accuracy: 0.9568\n",
      "Epoch 67/120\n",
      "249/249 [==============================] - 16s 65ms/step - loss: 0.1049 - accuracy: 0.9610 - val_loss: 0.1056 - val_accuracy: 0.9593\n",
      "Epoch 68/120\n",
      "249/249 [==============================] - 16s 65ms/step - loss: 0.0995 - accuracy: 0.9603 - val_loss: 0.1263 - val_accuracy: 0.9548\n",
      "Epoch 69/120\n",
      "249/249 [==============================] - 16s 65ms/step - loss: 0.0989 - accuracy: 0.9628 - val_loss: 0.1144 - val_accuracy: 0.9585\n",
      "Epoch 70/120\n",
      "249/249 [==============================] - 16s 65ms/step - loss: 0.0978 - accuracy: 0.9607 - val_loss: 0.1172 - val_accuracy: 0.9578\n",
      "Epoch 71/120\n",
      "249/249 [==============================] - 16s 65ms/step - loss: 0.0982 - accuracy: 0.9627 - val_loss: 0.1126 - val_accuracy: 0.9573\n",
      "Epoch 72/120\n",
      "249/249 [==============================] - 16s 65ms/step - loss: 0.0972 - accuracy: 0.9627 - val_loss: 0.1082 - val_accuracy: 0.9608\n",
      "Epoch 73/120\n",
      "249/249 [==============================] - 16s 65ms/step - loss: 0.1002 - accuracy: 0.9626 - val_loss: 0.1111 - val_accuracy: 0.9563\n",
      "Epoch 74/120\n",
      "249/249 [==============================] - 17s 68ms/step - loss: 0.0963 - accuracy: 0.9615 - val_loss: 0.1042 - val_accuracy: 0.9605\n",
      "Epoch 75/120\n",
      "249/249 [==============================] - 16s 66ms/step - loss: 0.0954 - accuracy: 0.9647 - val_loss: 0.1180 - val_accuracy: 0.9583\n",
      "Epoch 76/120\n",
      "249/249 [==============================] - 16s 66ms/step - loss: 0.0941 - accuracy: 0.9648 - val_loss: 0.1081 - val_accuracy: 0.9615\n",
      "Epoch 77/120\n",
      "249/249 [==============================] - 17s 67ms/step - loss: 0.0903 - accuracy: 0.9646 - val_loss: 0.1065 - val_accuracy: 0.9641\n",
      "Epoch 78/120\n",
      "249/249 [==============================] - 17s 68ms/step - loss: 0.0844 - accuracy: 0.9675 - val_loss: 0.1075 - val_accuracy: 0.9600\n",
      "Epoch 79/120\n",
      "249/249 [==============================] - 17s 67ms/step - loss: 0.1002 - accuracy: 0.9629 - val_loss: 0.0962 - val_accuracy: 0.9651\n",
      "Epoch 80/120\n",
      "249/249 [==============================] - 17s 70ms/step - loss: 0.0853 - accuracy: 0.9666 - val_loss: 0.1059 - val_accuracy: 0.9618\n",
      "Epoch 81/120\n",
      "249/249 [==============================] - 17s 67ms/step - loss: 0.0937 - accuracy: 0.9647 - val_loss: 0.1292 - val_accuracy: 0.9517\n",
      "Epoch 82/120\n",
      "249/249 [==============================] - 17s 68ms/step - loss: 0.0881 - accuracy: 0.9631 - val_loss: 0.0939 - val_accuracy: 0.9653\n",
      "Epoch 83/120\n",
      "249/249 [==============================] - 17s 69ms/step - loss: 0.0882 - accuracy: 0.9658 - val_loss: 0.1046 - val_accuracy: 0.9626\n",
      "Epoch 84/120\n",
      "249/249 [==============================] - 17s 69ms/step - loss: 0.0856 - accuracy: 0.9672 - val_loss: 0.1201 - val_accuracy: 0.9570\n",
      "Epoch 85/120\n",
      "249/249 [==============================] - 16s 66ms/step - loss: 0.0863 - accuracy: 0.9679 - val_loss: 0.1280 - val_accuracy: 0.9570\n",
      "Epoch 86/120\n",
      "249/249 [==============================] - 16s 65ms/step - loss: 0.0832 - accuracy: 0.9685 - val_loss: 0.1032 - val_accuracy: 0.9641\n",
      "Epoch 87/120\n",
      "249/249 [==============================] - 16s 65ms/step - loss: 0.0915 - accuracy: 0.9650 - val_loss: 0.1015 - val_accuracy: 0.9636\n",
      "Epoch 88/120\n",
      "249/249 [==============================] - 17s 67ms/step - loss: 0.0794 - accuracy: 0.9707 - val_loss: 0.1109 - val_accuracy: 0.9605\n",
      "Epoch 89/120\n",
      "249/249 [==============================] - 17s 69ms/step - loss: 0.0886 - accuracy: 0.9646 - val_loss: 0.1051 - val_accuracy: 0.9623\n",
      "Epoch 90/120\n",
      "249/249 [==============================] - 18s 70ms/step - loss: 0.0811 - accuracy: 0.9676 - val_loss: 0.0999 - val_accuracy: 0.9648\n",
      "Epoch 91/120\n",
      "249/249 [==============================] - 18s 73ms/step - loss: 0.0751 - accuracy: 0.9708 - val_loss: 0.1138 - val_accuracy: 0.9626\n",
      "Epoch 92/120\n",
      "249/249 [==============================] - 17s 69ms/step - loss: 0.0818 - accuracy: 0.9671 - val_loss: 0.1133 - val_accuracy: 0.9603\n",
      "Epoch 93/120\n",
      "249/249 [==============================] - 17s 66ms/step - loss: 0.0810 - accuracy: 0.9688 - val_loss: 0.1088 - val_accuracy: 0.9628\n",
      "Epoch 94/120\n",
      "249/249 [==============================] - 16s 64ms/step - loss: 0.0835 - accuracy: 0.9671 - val_loss: 0.0943 - val_accuracy: 0.9683\n",
      "Epoch 95/120\n",
      "249/249 [==============================] - 17s 68ms/step - loss: 0.0715 - accuracy: 0.9713 - val_loss: 0.1041 - val_accuracy: 0.9666\n",
      "Epoch 96/120\n",
      "249/249 [==============================] - 17s 70ms/step - loss: 0.0751 - accuracy: 0.9710 - val_loss: 0.1005 - val_accuracy: 0.9678\n",
      "Epoch 97/120\n",
      "249/249 [==============================] - 16s 65ms/step - loss: 0.0768 - accuracy: 0.9695 - val_loss: 0.0964 - val_accuracy: 0.9683\n",
      "Epoch 98/120\n",
      "249/249 [==============================] - 17s 66ms/step - loss: 0.0803 - accuracy: 0.9698 - val_loss: 0.1098 - val_accuracy: 0.9603\n",
      "Epoch 99/120\n",
      "249/249 [==============================] - 16s 64ms/step - loss: 0.0795 - accuracy: 0.9705 - val_loss: 0.1003 - val_accuracy: 0.9673\n",
      "Epoch 100/120\n",
      "249/249 [==============================] - 16s 65ms/step - loss: 0.0777 - accuracy: 0.9704 - val_loss: 0.1073 - val_accuracy: 0.9648\n",
      "Epoch 101/120\n",
      "249/249 [==============================] - 16s 65ms/step - loss: 0.0735 - accuracy: 0.9718 - val_loss: 0.1057 - val_accuracy: 0.9618\n",
      "Epoch 102/120\n",
      "249/249 [==============================] - 16s 66ms/step - loss: 0.0704 - accuracy: 0.9726 - val_loss: 0.0980 - val_accuracy: 0.9651\n",
      "Epoch 103/120\n",
      "249/249 [==============================] - 16s 66ms/step - loss: 0.0836 - accuracy: 0.9699 - val_loss: 0.0963 - val_accuracy: 0.9691\n",
      "Epoch 104/120\n",
      "249/249 [==============================] - 16s 65ms/step - loss: 0.0739 - accuracy: 0.9712 - val_loss: 0.1121 - val_accuracy: 0.9605\n",
      "Epoch 105/120\n",
      "249/249 [==============================] - 16s 64ms/step - loss: 0.0725 - accuracy: 0.9728 - val_loss: 0.0944 - val_accuracy: 0.9661\n",
      "Epoch 106/120\n",
      "249/249 [==============================] - 17s 67ms/step - loss: 0.0690 - accuracy: 0.9734 - val_loss: 0.1134 - val_accuracy: 0.9618\n",
      "Epoch 107/120\n",
      "249/249 [==============================] - 16s 65ms/step - loss: 0.0687 - accuracy: 0.9715 - val_loss: 0.0966 - val_accuracy: 0.9681\n",
      "Epoch 108/120\n",
      "249/249 [==============================] - 17s 67ms/step - loss: 0.0743 - accuracy: 0.9708 - val_loss: 0.0943 - val_accuracy: 0.9681\n",
      "Epoch 109/120\n",
      "249/249 [==============================] - 17s 67ms/step - loss: 0.0632 - accuracy: 0.9762 - val_loss: 0.1152 - val_accuracy: 0.9618\n",
      "Epoch 110/120\n",
      "249/249 [==============================] - 17s 66ms/step - loss: 0.0758 - accuracy: 0.9705 - val_loss: 0.0881 - val_accuracy: 0.9691\n",
      "Epoch 111/120\n",
      "249/249 [==============================] - 16s 66ms/step - loss: 0.0667 - accuracy: 0.9734 - val_loss: 0.1066 - val_accuracy: 0.9648\n",
      "Epoch 112/120\n",
      "249/249 [==============================] - 16s 66ms/step - loss: 0.0693 - accuracy: 0.9730 - val_loss: 0.1021 - val_accuracy: 0.9681\n",
      "Epoch 113/120\n"
     ]
    },
    {
     "name": "stdout",
     "output_type": "stream",
     "text": [
      "249/249 [==============================] - 17s 68ms/step - loss: 0.0607 - accuracy: 0.9748 - val_loss: 0.0906 - val_accuracy: 0.9708\n",
      "Epoch 114/120\n",
      "249/249 [==============================] - 16s 65ms/step - loss: 0.0773 - accuracy: 0.9713 - val_loss: 0.1062 - val_accuracy: 0.9621\n",
      "Epoch 115/120\n",
      "249/249 [==============================] - 17s 67ms/step - loss: 0.0717 - accuracy: 0.9720 - val_loss: 0.0924 - val_accuracy: 0.9701\n",
      "Epoch 116/120\n",
      "249/249 [==============================] - 17s 67ms/step - loss: 0.0729 - accuracy: 0.9722 - val_loss: 0.0981 - val_accuracy: 0.9663\n",
      "Epoch 117/120\n",
      "249/249 [==============================] - 17s 67ms/step - loss: 0.0683 - accuracy: 0.9735 - val_loss: 0.1056 - val_accuracy: 0.9646\n",
      "Epoch 118/120\n",
      "249/249 [==============================] - 17s 70ms/step - loss: 0.0717 - accuracy: 0.9727 - val_loss: 0.1068 - val_accuracy: 0.9628\n",
      "Epoch 119/120\n",
      "249/249 [==============================] - 17s 70ms/step - loss: 0.0610 - accuracy: 0.9769 - val_loss: 0.1187 - val_accuracy: 0.9608\n",
      "Epoch 120/120\n",
      "249/249 [==============================] - 17s 68ms/step - loss: 0.0685 - accuracy: 0.9735 - val_loss: 0.0900 - val_accuracy: 0.9683\n",
      "1965.8489286899567\n"
     ]
    }
   ],
   "source": [
    "#Model Training\n",
    "t1 = time.time()\n",
    "history = model.fit(X_train, y_train, epochs=120,batch_size=64,validation_split = 0.2)\n",
    "t2 = time.time()\n",
    "dt = t2 - t1\n",
    "print(dt)"
   ]
  },
  {
   "cell_type": "code",
   "execution_count": 15,
   "id": "2db4c300",
   "metadata": {},
   "outputs": [
    {
     "name": "stdout",
     "output_type": "stream",
     "text": [
      "134/134 [==============================] - 2s 15ms/step - loss: 0.0888 - accuracy: 0.9745\n"
     ]
    }
   ],
   "source": [
    "test_loss, test_acc = model.evaluate(X_test, y_test, batch_size = 64)\n",
    "#history.history"
   ]
  },
  {
   "cell_type": "code",
   "execution_count": 24,
   "id": "9eba1f08",
   "metadata": {},
   "outputs": [],
   "source": [
    "#df = pd.DataFrame(history.history)\n",
    "#df.to_csv(\"saved_data/lr_0.0001_final.csv\",index = False)"
   ]
  },
  {
   "cell_type": "code",
   "execution_count": 16,
   "id": "1f9f0f89",
   "metadata": {},
   "outputs": [
    {
     "data": {
      "image/png": "[encoded data removed]",
      "text/plain": [
       "<Figure size 432x288 with 1 Axes>"
      ]
     },
     "metadata": {
      "needs_background": "light"
     },
     "output_type": "display_data"
    },
    {
     "data": {
      "image/png": "[encoded data removed]",
      "text/plain": [
       "<Figure size 432x288 with 1 Axes>"
      ]
     },
     "metadata": {
      "needs_background": "light"
     },
     "output_type": "display_data"
    }
   ],
   "source": [
    "def plot_learning_curve(history, epochs):\n",
    "    # Plot training and valiation accuracy values    \n",
    "    epoch_range = range(1, epochs + 1)\n",
    "    plt.plot(epoch_range, history.history['accuracy'])\n",
    "    plt.plot(epoch_range, history.history['val_accuracy'])\n",
    "    plt.title(\"Model accuracy\")\n",
    "    plt.ylabel('Accuracy (%)')\n",
    "    plt.xlabel('Number of epoch')\n",
    "    plt.legend(['Training', 'Validation'], loc='upper left')\n",
    "    plt.show()\n",
    "    \n",
    "    # Plot training and validation loss values\n",
    "    plt.plot(epoch_range, history.history['loss'])\n",
    "    plt.plot(epoch_range, history.history['val_loss'])\n",
    "    plt.title(\"Model loss\")\n",
    "    plt.ylabel('loss')\n",
    "    plt.xlabel('Epoch')\n",
    "    plt.legend(['Training', 'Validation'], loc='upper left')\n",
    "    plt.show()\n",
    "plot_learning_curve(history, 120)"
   ]
  },
  {
   "cell_type": "code",
   "execution_count": 20,
   "id": "bf806599",
   "metadata": {},
   "outputs": [
    {
     "data": {
      "text/plain": [
       "((8526,), (8526,))"
      ]
     },
     "execution_count": 20,
     "metadata": {},
     "output_type": "execute_result"
    }
   ],
   "source": [
    "# change format to plot\n",
    "from mlxtend.plotting import plot_confusion_matrix\n",
    "from sklearn.metrics import confusion_matrix\n",
    "y_test = np.argmax(y_test, axis = 1) ##change one-hot format to singe number\n",
    "y_pred = model.predict(X_test)\n",
    "y_pred = np.argmax(y_pred, axis = 1)\n",
    "y_pred.shape,y_test.shape"
   ]
  },
  {
   "cell_type": "code",
   "execution_count": 26,
   "id": "f9a01c74",
   "metadata": {},
   "outputs": [
    {
     "data": {
      "text/plain": [
       "Text(0, 0.5, 'True Label')"
      ]
     },
     "execution_count": 26,
     "metadata": {},
     "output_type": "execute_result"
    },
    {
     "data": {
      "image/png": "[encoded data removed]",
      "text/plain": [
       "<Figure size 504x504 with 1 Axes>"
      ]
     },
     "metadata": {
      "needs_background": "light"
     },
     "output_type": "display_data"
    }
   ],
   "source": [
    "#plot confusion matrix\n",
    "Activities = ['Walking', 'Running', 'Low Res Bike', 'High Res Bike']\n",
    "#accuracy_score(y_test, y_pred)\n",
    "mat = confusion_matrix(y_test, y_pred)\n",
    "plot_confusion_matrix(conf_mat=mat, class_names=Activities, show_normed=True, figsize=(7,7))\n",
    "plt.title('Confusion Matrix')\n",
    "plt.xlabel('Predicted Label')\n",
    "plt.ylabel('True Label')\n",
    "#plt.show()"
   ]
  },
  {
   "cell_type": "code",
   "execution_count": 25,
   "id": "adeca422",
   "metadata": {},
   "outputs": [
    {
     "name": "stdout",
     "output_type": "stream",
     "text": [
      "INFO:tensorflow:Assets written to: Saved_models/CNN_model\\assets\n"
     ]
    }
   ],
   "source": [
    "#Save Model\n",
    "model.save('Saved_models/CNN_model')"
   ]
  }
 ],
 "metadata": {
  "kernelspec": {
   "display_name": "Python 3",
   "language": "python",
   "name": "python3"
  },
  "language_info": {
   "codemirror_mode": {
    "name": "ipython",
    "version": 3
   },
   "file_extension": ".py",
   "mimetype": "text/x-python",
   "name": "python",
   "nbconvert_exporter": "python",
   "pygments_lexer": "ipython3",
   "version": "3.6.13"
  }
 },
 "nbformat": 4,
 "nbformat_minor": 5
}
